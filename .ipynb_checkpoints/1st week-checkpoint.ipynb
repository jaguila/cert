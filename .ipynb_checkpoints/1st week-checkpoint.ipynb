{
 "metadata": {
  "name": ""
 },
 "nbformat": 3,
 "nbformat_minor": 0,
 "worksheets": [
  {
   "cells": [
    {
     "cell_type": "raw",
     "metadata": {},
     "source": [
      "Coursera datasci cert\n",
      "\n",
      "    getting answer easy. Interpreting result hard. simple methods + enough good data wins over sophisticated methods\n",
      "    2010 Election - used state polls aggregated to base presidential elections. Historically accurate. Not good error.\n",
      "    Obama campaign used data-driven analysis on voters info to send relevant messages to specific users\n",
      "    adhoc interactive analysis\n",
      "\n",
      "    Datascience core\n",
      "        pulling data down from web, repurposing in real time and the making visualizations and then placing on the web.\n",
      "        repurposing data for a different purpose\n",
      "    \n",
      "    note: http://sentiwordnet.isti.cnr.it/index.php for mood score\n",
      "    expression of emotions over time\n",
      "        mood score based on words in all the books digitized over year\n",
      "            first job-sadness (z-scores) by year\n",
      "            emotion-random(z-scores) by year\n",
      "    "
     ]
    },
    {
     "cell_type": "code",
     "collapsed": false,
     "input": [],
     "language": "python",
     "metadata": {},
     "outputs": []
    }
   ],
   "metadata": {}
  }
 ]
}