{
 "metadata": {
  "name": "",
  "signature": "sha256:dea4d644b41a95eacbda878fe1e389a8bc3982371489ef3e114dee753cbfd54c"
 },
 "nbformat": 3,
 "nbformat_minor": 0,
 "worksheets": [
  {
   "cells": [
    {
     "cell_type": "markdown",
     "metadata": {},
     "source": [
      "python program.py > output.json\n",
      "\n",
      "this code outputs whatever the program outputs into a specific file"
     ]
    },
    {
     "cell_type": "code",
     "collapsed": false,
     "input": [
      "praveen1=['the', 'and', 1 ]\n",
      "\n",
      "\n",
      "\n",
      "praveen = {}\n",
      "praveen['the']=praveen1\n",
      "praveen['prab']='datascience'\n",
      "print praveen\n",
      "praveen.keys()\n",
      "\n",
      "for i in praveen1:\n",
      "    print i"
     ],
     "language": "python",
     "metadata": {},
     "outputs": [
      {
       "output_type": "stream",
       "stream": "stdout",
       "text": [
        "{'the': ['the', 'and', 1], 'prab': 'datascience'}\n",
        "the\n",
        "and\n",
        "1\n"
       ]
      }
     ],
     "prompt_number": 14
    },
    {
     "cell_type": "code",
     "collapsed": false,
     "input": [],
     "language": "python",
     "metadata": {},
     "outputs": []
    }
   ],
   "metadata": {}
  }
 ]
}