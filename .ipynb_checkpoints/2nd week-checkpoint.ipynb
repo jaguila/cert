{
 "metadata": {
  "name": "",
  "signature": "sha256:481aa0fbf94df047c1d111a08e7c36881137823bc74b69ae5122c2f71036278b"
 },
 "nbformat": 3,
 "nbformat_minor": 0,
 "worksheets": [
  {
   "cells": [
    {
     "cell_type": "markdown",
     "metadata": {},
     "source": [
      "Data models\n",
      "\n",
      "    structures\n",
      "        rows and columns\n",
      "        key value pairs\n",
      "        seq of bytes\n",
      "    constraints\n",
      "        (eg.tab) - all rows the same amount of columns.\n",
      "           every value in this column is an integer\n",
      "           one column must have same type\n",
      "           child cannot have two parents\n",
      "    operations\n",
      "        find value of key x\n",
      "        find rows where column lastname is jordan\n",
      "        get the next n bytes\n",
      "    "
     ]
    },
    {
     "cell_type": "markdown",
     "metadata": {},
     "source": [
      "Database (schema)\n",
      "    \n",
      "    database should be self describing and should have a schema\n",
      "    \n",
      "    why\n",
      "        sharing data\n",
      "        data model enforcement - make sure applications see clean organized data\n",
      "        scale\n",
      "        flexibility use the data in new unanticipated ways\n",
      "        "
     ]
    },
    {
     "cell_type": "raw",
     "metadata": {},
     "source": [
      "Questions to consider\n",
      "    how is the data physically organized\n",
      "    what kinds of data are supported by this organization\n",
      "    how to update data and add\n",
      "    what happends with new queries that are not anticipated?"
     ]
    },
    {
     "cell_type": "markdown",
     "metadata": {},
     "source": [
      "motivating Relational algebra\n",
      "    \n",
      "    Network database\n",
      "        problems extend another column. you must change all queries and tables under that table. Multiple copies might need to be made\n",
      "    relational databases\n",
      "        made to deal with unforseen queries or access methods\n",
      "        Def:\n",
      "            everything table\n",
      "            every row in a table has the same columns\n",
      "            relationships are implicit - no pointers\n",
      "       \n",
      "            \n",
      "            "
     ]
    },
    {
     "cell_type": "markdown",
     "metadata": {},
     "source": [
      "relational database\n",
      "    \n",
      "    key idea - program that allow for an algebraic structure manipulation independent of of physical data representation\n",
      "    all operations over tables will always return a table\n",
      "    "
     ]
    },
    {
     "cell_type": "markdown",
     "metadata": {},
     "source": [
      "Relational algebra\n",
      "    set vs bags\n",
      "        set no duplicates - std relational algebra\n",
      "            every paper will assume\n",
      "            union\n",
      "        bags duplicates - ext relational algebra\n",
      "            every implemenation will assume\n",
      "            union all\n",
      "    difference\n",
      "        r1-r2\n",
      "            except\n",
      "    select - project\n",
      "    where - selection"
     ]
    },
    {
     "cell_type": "markdown",
     "metadata": {},
     "source": [
      "Theta join\n",
      "    join with a condition\n",
      "    \n",
      "outer join\n",
      "    left - will take all of left and then add null for right side when right side does not exist\n",
      "    full outer join - will try to give you the two lists with the column's seperated while union will give you everything in one column"
     ]
    },
    {
     "cell_type": "markdown",
     "metadata": {},
     "source": [
      "examples:\n",
      "    you can hard set a value\n",
      "    select 5.0 as bin from table1. \n",
      "    bin will be 5.0\n",
      "    \n",
      "    you can do a complicated if then\n",
      "    select *, case when (x>y, then x+y)\n",
      "    when(x=y, then x)\n",
      "    END as derived\n",
      "    from table\n",
      "    "
     ]
    },
    {
     "cell_type": "markdown",
     "metadata": {},
     "source": [
      "creating views instead of making new table.\n",
      "\n",
      "analytics within database is good to do sometimes"
     ]
    }
   ],
   "metadata": {}
  }
 ]
}