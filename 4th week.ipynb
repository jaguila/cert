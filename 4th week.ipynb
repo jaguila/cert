{
 "metadata": {
  "name": ""
 },
 "nbformat": 3,
 "nbformat_minor": 0,
 "worksheets": [
  {
   "cells": [
    {
     "cell_type": "raw",
     "metadata": {},
     "source": [
      "Parallel Databases\n",
      "\n",
      "NoSQL\n",
      "    low latency, parallel databases\n",
      "HPC - High performance computing\n",
      "    throughput, shared memory\n",
      "Analytics\n",
      "    throughput, parallel databases\n",
      "\n",
      "mapreduce\n",
      "    lightweight framework\n",
      "    automatic parallelization and distrib\n",
      "    fault  tolerance\n",
      "    i/o scheduling\n",
      "    status and monitoring\n",
      "parallel query processing\n",
      "    distributed query\n",
      "        rewrite the query and a union of subqueries\n",
      "        like map phase\n",
      "        ex - SQL\n",
      "    paralell query\n",
      "        each operator is implemented with a parallel algorithm\n",
      "        everything is partitioned across the cluster\n",
      "        ex. mapreduce"
     ]
    },
    {
     "cell_type": "raw",
     "metadata": {},
     "source": [
      "Map reduce extensions\n",
      "    PIG - relational algebra over hadaoop\n",
      "    HIVE - SQL over hadoop\n",
      "    "
     ]
    }
   ],
   "metadata": {}
  }
 ]
}