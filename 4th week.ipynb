{
 "metadata": {
  "name": "",
  "signature": "sha256:e361ded215824bfb369a6e4eab80fa22a4da64935c8b18f690c363b0556c1599"
 },
 "nbformat": 3,
 "nbformat_minor": 0,
 "worksheets": [
  {
   "cells": [
    {
     "cell_type": "raw",
     "metadata": {},
     "source": [
      "NoSQL\n",
      "    large scale web application for Databases"
     ]
    },
    {
     "cell_type": "raw",
     "metadata": {},
     "source": []
    }
   ],
   "metadata": {}
  }
 ]
}