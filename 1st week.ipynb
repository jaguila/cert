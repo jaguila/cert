{
 "metadata": {
  "name": "",
  "signature": "sha256:74bbd6c8ddaa89e7d3d16dfe7d60d7b0d2fe88a14c0e2cb1af8109c68d399e3b"
 },
 "nbformat": 3,
 "nbformat_minor": 0,
 "worksheets": [
  {
   "cells": [
    {
     "cell_type": "raw",
     "metadata": {},
     "source": [
      "Coursera datasci cert\n",
      "\n",
      "    getting answer easy. Interpreting result hard. simple methods + enough good data wins over sophisticated methods\n",
      "    2010 Election - used state polls aggregated to base presidential elections. Historically accurate. Not good error.\n",
      "    Obama campaign used data-driven analysis on voters info to send relevant messages to specific users\n",
      "    adhoc interactive analysis\n",
      "\n",
      "    Datascience core\n",
      "        pulling data down from web, repurposing in real time and the making visualizations and then placing on the web.\n",
      "        repurposing data for a different purpose\n",
      "    \n",
      "    note: http://sentiwordnet.isti.cnr.it/index.php for mood score\n",
      "    expression of emotions over time\n",
      "        mood score based on words in all the books digitized over year\n",
      "            first job-sadness (z-scores) by year\n",
      "            emotion-random(z-scores) by year\n",
      "    \n",
      "    important paper test/website\n",
      "        number of citings vs number of total citings(after 2nd degree)\n",
      "        google did this by page rank. your page rank gets added to any other cite you link to\n",
      "        same dataset was able to allow people to map our the emergence of new sciences\n",
      "    repurposing data\n",
      "        finding users that searched for certain drugs over time then also noticing that those same users that searched for certain drugs also searched for a specific disease which is not a known side effect of drug\n",
      "    must always place weight behing predictions"
     ]
    },
    {
     "cell_type": "code",
     "collapsed": false,
     "input": [],
     "language": "python",
     "metadata": {},
     "outputs": []
    }
   ],
   "metadata": {}
  }
 ]
}