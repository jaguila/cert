{
 "metadata": {
  "name": ""
 },
 "nbformat": 3,
 "nbformat_minor": 0,
 "worksheets": [
  {
   "cells": [
    {
     "cell_type": "markdown",
     "metadata": {},
     "source": [
      "Data models\n",
      "\n",
      "    structures\n",
      "        rows and columns\n",
      "        key value pairs\n",
      "        seq of bytes\n",
      "    constraints\n",
      "        (eg.tab) - all rows the same amount of columns.\n",
      "           every value in this column is an integer\n",
      "           one column must have same type\n",
      "           child cannot have two parents\n",
      "    operations\n",
      "        find value of key x\n",
      "        find rows where column lastname is jordan\n",
      "        get the next n bytes\n",
      "    "
     ]
    },
    {
     "cell_type": "markdown",
     "metadata": {},
     "source": [
      "Database (schema)\n",
      "    \n",
      "    database should be self describing and should have a schema\n",
      "    \n",
      "    why\n",
      "        sharing data\n",
      "        data model enforcement - make sure applications see clean organized data\n",
      "        scale\n",
      "        flexibility use the data in new unanticipated ways\n",
      "        "
     ]
    },
    {
     "cell_type": "raw",
     "metadata": {},
     "source": [
      "Questions to consider\n",
      "    how is the data physically organized\n",
      "    what kinds of data are supported by this organization\n",
      "    how to update data and add\n",
      "    what happends with new queries that are not anticipated?"
     ]
    },
    {
     "cell_type": "markdown",
     "metadata": {},
     "source": [
      "motivating Relational algebra\n",
      "    \n",
      "    Network database\n",
      "        problems extend another column. you must change all queries and tables under that table. Multiple copies might need to be made\n",
      "    relational databases\n",
      "        made to deal with unforseen queries or access methods\n",
      "        Def:\n",
      "            everything table\n",
      "            every row in a table has the same columns\n",
      "            relationships are implicit - no pointers\n",
      "       \n",
      "            \n",
      "            "
     ]
    },
    {
     "cell_type": "markdown",
     "metadata": {},
     "source": [
      "relational database\n",
      "    \n",
      "    key idea - program that allow for an algebraic structure manipulation independent of of physical data representation\n",
      "    all operations over tables will always return a table"
     ]
    }
   ],
   "metadata": {}
  }
 ]
}