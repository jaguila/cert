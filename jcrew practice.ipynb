{
 "metadata": {
  "name": "",
  "signature": "sha256:368248d65a21db1a1bfcfc992a8132a82e51e7f361989f4a1592d25c4ce7280a"
 },
 "nbformat": 3,
 "nbformat_minor": 0,
 "worksheets": [
  {
   "cells": [
    {
     "cell_type": "code",
     "collapsed": false,
     "input": [
      "from pattern import web\n",
      "import requests\n",
      "import sqlite3"
     ],
     "language": "python",
     "metadata": {},
     "outputs": [],
     "prompt_number": 33
    },
    {
     "cell_type": "code",
     "collapsed": false,
     "input": [
      "def pull():\n",
      "    url=requests.get(\"https://www.jcrew.com/search2/index.jsp?N=21+16&Ntrm=&Nsrt=3&Npge=1\").text\n",
      "    dom=web.Element(url)\n",
      "    name=dom.by_class(\"product-description-line product-name\")\n",
      "    pricen=dom.by_class(\"product-description-line product-price-was\")\n",
      "    price=[]\n",
      "    salenames=[n.by_tag('a')[0].content for n in name]\n",
      "    for p in pricen:\n",
      "        price.append(float(p.by_tag('a')[0].content[-12:-7]))\n",
      "    saleinfo=dict(zip(salenames,price))\n",
      "    print saleinfo\n",
      "    \n",
      "def sql():\n",
      "    conn=sqlite3.connect(\"jcrew.db\")\n",
      "    c=conn.cursor()\n",
      "    c.execute('''create table stuff ''')\n",
      "    c.commit()\n",
      "pull()"
     ],
     "language": "python",
     "metadata": {},
     "outputs": [
      {
       "output_type": "stream",
       "stream": "stdout",
       "text": [
        "{u'Club jacket': 88.0, u'Broken-in chino in urban slim fit': 75.0, u'Bowery classic in wool': 28.0, u'Sun-faded chino in 484 fit': 75.0, u'Lightweight chino in 484 fit': 75.0, u'Bowery slim in tonal seersucker': 98.0, u'Wallace &amp; Barnes tannery belt': 98.0, u'Horizontal-stripe boxers': 18.5, u'Broken-in long-sleeve pocket polo': 49.5, u'Crosshatch boxers': 18.5, u'Ludlow slim suit pant in microstripe cotton': 58.0, u'Tonal seersucker chino in urban slim fit': 79.5, u'Broken-in chino in 484 fit': 75.0, u'Slim classic piqu\\xe9 polo': 42.5, u'7\" Stanton short in island print': 69.5, u'Sun-faded oxford cloth chino in 484 fit': 79.5, u'Wallace &amp; Barnes herringbone short': 89.5, u'Bowery slim in micro-houndstooth cotton': 88.0, u'Ludlow suit vest in Japanese seersucker': 28.0, u'Ludlow suit jacket in microstripe cotton': 98.0, u'Ludlow suit jacket with double vent in Italian chino': 98.0, u'Slim vintage oxford shirt in tonal cotton': 69.5, u'9\" board short in flower bud print': 75.0, u'Slim Secret Wash shirt in summer check': 64.5, u'Wallace &amp; Barnes workwear chino': 28.0, u'Ludlow suit jacket in Japanese seersucker': 98.0, u'Tri-anchor boxers': 18.5, u'Corgi\\u2122 lightweight pattern socks': 28.0, u'Bowery slim in cotton oxford cloth': 88.0, u'Vetra\\u2122 #7 worker jacket': 48.0, u'Checked boxers': 18.5, u'6.5\" tab swim short in Hawaiian floral': 75.0, u'9\" Stanton short in pindot chambray': 69.5, u'10.5\" club short in micro houndstooth': 69.5, u'1040 slim-straight jean in light indigo wash': 96.0, u'Bowery slim in wool': 28.0, u'Ludlow classic suit pant in Japanese seersucker': 58.0, u'Boxers in lemon gimlet check': 18.5, u'9\" board short in white floral': 75.0, u'9\" club short in micro houndstooth': 69.5, u'Short-sleeve Indian cotton shirt in blue plaid': 69.5, u'Lightweight chino in classic fit': 75.0, u'9\" Stanton short in hashtag print': 69.5, u'Knit boxer briefs in stripe': 25.0, u'Ludlow slim suit pant in Italian chino': 58.0, u'7\" Stanton short in anchor print': 69.5}\n"
       ]
      }
     ],
     "prompt_number": 32
    },
    {
     "cell_type": "code",
     "collapsed": false,
     "input": [],
     "language": "python",
     "metadata": {},
     "outputs": []
    }
   ],
   "metadata": {}
  }
 ]
}